{
 "cells": [
  {
   "cell_type": "markdown",
   "metadata": {},
   "source": [
    "## Exam 1"
   ]
  },
  {
   "cell_type": "markdown",
   "metadata": {},
   "source": [
    "#### 1. Write a function in python which takes a word as input and prints the same word in reverse\n",
    "Example:- <br>Input = Muneerah<br>\n",
    "          Output = hareenuM"
   ]
  },
  {
   "cell_type": "code",
   "execution_count": 4,
   "metadata": {},
   "outputs": [
    {
     "data": {
      "text/plain": [
       "'hareenuM'"
      ]
     },
     "execution_count": 4,
     "metadata": {},
     "output_type": "execute_result"
    }
   ],
   "source": [
    "# Answer 1\n",
    "def reverseString(toBeReversed): \n",
    "  reversedText = \"\" \n",
    "  for i in toBeReversed: \n",
    "    reversedText = i + reversedText\n",
    "  return reversedText\n",
    "\n",
    "test=reverse('Muneerah')\n",
    "test\n"
   ]
  },
  {
   "cell_type": "code",
   "execution_count": 10,
   "metadata": {},
   "outputs": [
    {
     "name": "stdout",
     "output_type": "stream",
     "text": [
      "hareenuM\n"
     ]
    }
   ],
   "source": [
    "# Correct answer\n",
    "# In python, the [::-1] operation will reverse a list. Simple as that ;)\n",
    "\n",
    "def revString(to_be_reversed):\n",
    "    print(to_be_reversed[::-1])\n",
    "\n",
    "revString(\"Muneerah\")"
   ]
  },
  {
   "cell_type": "markdown",
   "metadata": {},
   "source": [
    "#### 2. Write a function in python which takes a word as input and prints the letters of the word separated by \".\"\n",
    "Example:- <br>Input = Muneerah <br>\n",
    "          Output = M.u.n.e.e.r.a.h"
   ]
  },
  {
   "cell_type": "code",
   "execution_count": 20,
   "metadata": {},
   "outputs": [
    {
     "data": {
      "text/plain": [
       "'M.u.n.e.e.r.a.h.'"
      ]
     },
     "execution_count": 20,
     "metadata": {},
     "output_type": "execute_result"
    }
   ],
   "source": [
    "# Answer 2\n",
    "def splitStringWithDots(toBeSplited): \n",
    "  splitedText= \"\"\n",
    "  chars = list(toBeSplited)\n",
    "    \n",
    "  for i in chars: \n",
    "    splitedText+=i+\".\"\n",
    "    \n",
    "  return splitedText\n",
    "\n",
    "test=splitStringWithDots('Muneerah')\n",
    "test\n",
    "\n"
   ]
  },
  {
   "cell_type": "code",
   "execution_count": 21,
   "metadata": {},
   "outputs": [
    {
     "name": "stdout",
     "output_type": "stream",
     "text": [
      "M.u.n.e.e.r.a.h\n"
     ]
    }
   ],
   "source": [
    "# Correct Answer\n",
    "# list() will split a string. \n",
    "# join operator will join the elements of a list with the character inside the quotes\n",
    "\n",
    "def insertDots(in_string):\n",
    "    print(\".\".join(list(in_string)))\n",
    "\n",
    "insertDots(\"Muneerah\")"
   ]
  },
  {
   "cell_type": "markdown",
   "metadata": {},
   "source": [
    "#### 3. You are given a list of numbers (A). Write a list comprehension to make a new list in which each element is of the form (a^2 + index(a)) for every a in the original list "
   ]
  },
  {
   "cell_type": "code",
   "execution_count": 14,
   "metadata": {},
   "outputs": [
    {
     "name": "stdout",
     "output_type": "stream",
     "text": [
      "[9, 17, 27]\n"
     ]
    }
   ],
   "source": [
    "# Answer 3\n",
    "\n",
    "numbers = [3, 4, 5]\n",
    "newNumbers = []\n",
    "\n",
    "for idx, number in enumerate(numbers):\n",
    "    newNumbers.append((number**2) + idx)\n",
    "    \n",
    "print (newNumbers)\n",
    "    "
   ]
  },
  {
   "cell_type": "code",
   "execution_count": 18,
   "metadata": {},
   "outputs": [
    {
     "name": "stdout",
     "output_type": "stream",
     "text": [
      "[9, 17, 27]\n"
     ]
    }
   ],
   "source": [
    "# Correct answer\n",
    "# There is no need to create the newNumbers list separately \n",
    "# List comprehension should a single line code. unlike Java/C++ :D\n",
    "# This will help you to write elegant code \n",
    "# This will help you understand functional programming. Also understand a lot of open source code\n",
    "\n",
    "list_comprehension_numbers = [(a**2)+i for i, a in enumerate(numbers)]\n",
    "print(list_comprehension_numbers)"
   ]
  },
  {
   "cell_type": "markdown",
   "metadata": {},
   "source": [
    "#### 4. Write a function to print the dictionary of the following text \n",
    "\n",
    "Machine learning (ML) is the scientific study of algorithms and statistical models that computer systems use in order to perform a specific task effectively without using explicit instructions, relying on patterns and inference instead. It is seen as a subset of artificial intelligence. Machine learning algorithms build a mathematical model based on sample data, known as \"training data\", in order to make predictions or decisions without being explicitly programmed to perform the task.[1][2]:2 Machine learning algorithms are used in a wide variety of applications, such as email filtering, and computer vision, where it is infeasible to develop an algorithm of specific instructions for performing the task. Machine learning is closely related to computational statistics, which focuses on making predictions using computers. The study of mathematical optimization delivers methods, theory and application domains to the field of machine learning. Data mining is a field of study within machine learning, and focuses on exploratory data analysis through unsupervised learning.[3][4] In its application across business problems, machine learning is also referred to as predictive analytics.\n",
    "\n",
    "#### The result should be printed like below. Each word is with the frequency in the paragraph. The result is to be printed in descending order of frequency\n",
    "\n",
    "machine 8 <br>\n",
    "learning 8 <br>\n",
    "the 7 <br>\n",
    ". <br>\n",
    ". <br>"
   ]
  },
  {
   "cell_type": "code",
   "execution_count": 2,
   "metadata": {},
   "outputs": [
    {
     "name": "stdout",
     "output_type": "stream",
     "text": [
      "to 7\n",
      "of 7\n",
      "is 6\n",
      "learning 5\n",
      "and 5\n",
      "a 5\n",
      "on 4\n",
      "Machine 4\n",
      "as 4\n",
      "the 4\n",
      "study 3\n",
      "in 3\n",
      "machine 3\n",
      "algorithms 3\n",
      "field 2\n",
      "using 2\n",
      "specific 2\n",
      "computer 2\n",
      "focuses 2\n",
      "mathematical 2\n",
      "predictions 2\n",
      "task. 2\n",
      "data, 2\n",
      "perform 2\n",
      "application 2\n",
      "without 2\n",
      "order 2\n",
      "being 1\n",
      "through 1\n",
      "statistical 1\n",
      "decisions 1\n",
      "its 1\n",
      "methods, 1\n",
      "based 1\n",
      "explicitly 1\n",
      "systems 1\n",
      "wide 1\n",
      "closely 1\n",
      "instructions 1\n",
      "problems, 1\n",
      "performing 1\n",
      "across 1\n",
      "where 1\n",
      "referred 1\n",
      "subset 1\n",
      "predictive 1\n",
      "programmed 1\n",
      "related 1\n",
      "are 1\n",
      "instead. 1\n",
      "theory 1\n",
      "for 1\n",
      "artificial 1\n",
      "email 1\n",
      "scientific 1\n",
      "business 1\n",
      "relying 1\n",
      "training 1\n",
      "intelligence. 1\n",
      "applications, 1\n",
      "domains 1\n",
      "or 1\n",
      "learning, 1\n",
      "computers. 1\n",
      "computational 1\n",
      "inference 1\n",
      "within 1\n",
      "use 1\n",
      "2 1\n",
      "Data 1\n",
      "mining 1\n",
      "vision, 1\n",
      "that 1\n",
      "(ML) 1\n",
      "known 1\n",
      "delivers 1\n",
      "sample 1\n",
      "also 1\n",
      "optimization 1\n",
      "making 1\n",
      "analytics. 1\n",
      "it 1\n",
      "an 1\n",
      "effectively 1\n",
      "instructions, 1\n",
      "seen 1\n",
      "learning.In 1\n",
      "statistics, 1\n",
      "develop 1\n",
      "exploratory 1\n",
      "variety 1\n",
      "make 1\n",
      "build 1\n",
      "which 1\n",
      "filtering, 1\n",
      "infeasible 1\n",
      "used 1\n",
      "models 1\n",
      "such 1\n",
      "The 1\n",
      "data 1\n",
      "task 1\n",
      "algorithm 1\n",
      "unsupervised 1\n",
      "explicit 1\n",
      "It 1\n",
      "analysis 1\n",
      "learning. 1\n",
      "patterns 1\n",
      "model 1\n"
     ]
    }
   ],
   "source": [
    "# Answer 4\n",
    "\n",
    "w_list=\"Machine learning (ML) is the scientific study of algorithms and statistical models that computer systems use in order to perform a specific task effectively without using explicit instructions, relying on patterns and inference instead. It is seen as a subset of artificial intelligence. Machine learning algorithms build a mathematical model based on sample data, known as training data, in order to make predictions or decisions without being explicitly programmed to perform the task. 2 Machine learning algorithms are used in a wide variety of applications, such as email filtering, and computer vision, where it is infeasible to develop an algorithm of specific instructions for performing the task. Machine learning is closely related to computational statistics, which focuses on making predictions using computers. The study of mathematical optimization delivers methods, theory and application domains to the field of machine learning. Data mining is a field of study within machine learning, and focuses on exploratory data analysis through unsupervised learning.In its application across business problems, machine learning is also referred to as predictive analytics.\"\n",
    "di=dict()\n",
    "for word in w_list.split():\n",
    "\n",
    "    if word in di:\n",
    "        di[word]=di[word] + 1\n",
    "\n",
    "    else:\n",
    "        di[word]=1\n",
    "\n",
    "        \n",
    "listofSotredWords = sorted(di.items() , reverse=True, key=lambda x: x[1])\n",
    "# Iterate over the sorted sequence\n",
    "for elem in listofSotredWords :\n",
    "    print elem[0],elem[1]\n",
    "   \n",
    "\n"
   ]
  },
  {
   "cell_type": "code",
   "execution_count": 15,
   "metadata": {},
   "outputs": [
    {
     "name": "stdout",
     "output_type": "stream",
     "text": [
      "to 7\n",
      "of 7\n",
      "is 6\n",
      "learning 5\n",
      "and 5\n",
      "a 5\n",
      "on 4\n",
      "Machine 4\n",
      "as 4\n",
      "the 4\n",
      "study 3\n",
      "in 3\n",
      "machine 3\n",
      "algorithms 3\n",
      "field 2\n",
      "using 2\n",
      "specific 2\n",
      "computer 2\n",
      "focuses 2\n",
      "mathematical 2\n",
      "predictions 2\n",
      "task. 2\n",
      "data, 2\n",
      "perform 2\n",
      "application 2\n",
      "without 2\n",
      "order 2\n",
      "being 1\n",
      "through 1\n",
      "statistical 1\n",
      "decisions 1\n",
      "its 1\n",
      "methods, 1\n",
      "based 1\n",
      "explicitly 1\n",
      "systems 1\n",
      "wide 1\n",
      "closely 1\n",
      "instructions 1\n",
      "problems, 1\n",
      "performing 1\n",
      "across 1\n",
      "where 1\n",
      "referred 1\n",
      "subset 1\n",
      "predictive 1\n",
      "programmed 1\n",
      "related 1\n",
      "are 1\n",
      "instead. 1\n",
      "theory 1\n",
      "for 1\n",
      "artificial 1\n",
      "email 1\n",
      "scientific 1\n",
      "business 1\n",
      "relying 1\n",
      "training 1\n",
      "intelligence. 1\n",
      "applications, 1\n",
      "domains 1\n",
      "or 1\n",
      "learning, 1\n",
      "computers. 1\n",
      "computational 1\n",
      "inference 1\n",
      "within 1\n",
      "use 1\n",
      "2 1\n",
      "Data 1\n",
      "mining 1\n",
      "vision, 1\n",
      "that 1\n",
      "(ML) 1\n",
      "known 1\n",
      "delivers 1\n",
      "sample 1\n",
      "also 1\n",
      "optimization 1\n",
      "making 1\n",
      "analytics. 1\n",
      "it 1\n",
      "an 1\n",
      "effectively 1\n",
      "instructions, 1\n",
      "seen 1\n",
      "learning.In 1\n",
      "statistics, 1\n",
      "develop 1\n",
      "exploratory 1\n",
      "variety 1\n",
      "make 1\n",
      "build 1\n",
      "which 1\n",
      "filtering, 1\n",
      "infeasible 1\n",
      "used 1\n",
      "models 1\n",
      "such 1\n",
      "The 1\n",
      "data 1\n",
      "task 1\n",
      "algorithm 1\n",
      "unsupervised 1\n",
      "explicit 1\n",
      "It 1\n",
      "analysis 1\n",
      "learning. 1\n",
      "patterns 1\n",
      "model 1\n"
     ]
    }
   ],
   "source": [
    "#Correct answer\n",
    "from collections import defaultdict\n",
    "# We can assign default values to dictioaries using defaultdict datatype\n",
    "\n",
    "words = w_list.split() #Words should be split and kept before the for loop so that the splitting is not done during every step of the loop\n",
    "di = defaultdict(int)\n",
    "for word in words:\n",
    "    di[word] += 1 #There is no need for if else condition. \n",
    "    \n",
    "sortedwords = sorted(di.items() , reverse=True, key=lambda x: x[1])\n",
    "\n",
    "for sw in sortedwords:\n",
    "    print sw[0], sw[1]"
   ]
  },
  {
   "cell_type": "code",
   "execution_count": 19,
   "metadata": {},
   "outputs": [],
   "source": [
    "# Print the dictionary without the tuple format\n",
    "# Print the dictionary in sorted format with descending order"
   ]
  },
  {
   "cell_type": "markdown",
   "metadata": {},
   "source": [
    "#### 5. What is the difference between a python list and numpy array?"
   ]
  },
  {
   "cell_type": "markdown",
   "metadata": {},
   "source": [
    "# Answer 5\n",
    "\n",
    "Python List : it is provided by Python core libraries no need for import. It is equivalent to the linked array in java, as it is resizeable but it can contain elements of different types.\n",
    "\n",
    "Numpy Array : It is an external librariy needs to be imported before usage. It provides a high performance multidimensional array object. it can not contain elements of different types.\n"
   ]
  },
  {
   "cell_type": "code",
   "execution_count": 20,
   "metadata": {},
   "outputs": [],
   "source": [
    "# Correct!!!"
   ]
  }
 ],
 "metadata": {
  "kernelspec": {
   "display_name": "Python 2",
   "language": "python",
   "name": "python2"
  },
  "language_info": {
   "codemirror_mode": {
    "name": "ipython",
    "version": 2
   },
   "file_extension": ".py",
   "mimetype": "text/x-python",
   "name": "python",
   "nbconvert_exporter": "python",
   "pygments_lexer": "ipython2",
   "version": "2.7.15"
  }
 },
 "nbformat": 4,
 "nbformat_minor": 2
}
